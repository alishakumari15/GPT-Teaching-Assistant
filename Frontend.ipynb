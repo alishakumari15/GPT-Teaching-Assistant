{
  "nbformat": 4,
  "nbformat_minor": 0,
  "metadata": {
    "colab": {
      "provenance": []
    },
    "kernelspec": {
      "name": "python3",
      "display_name": "Python 3"
    },
    "language_info": {
      "name": "python"
    }
  },
  "cells": [
    {
      "cell_type": "code",
      "execution_count": null,
      "metadata": {
        "id": "8j9iGVk5y5zh"
      },
      "outputs": [],
      "source": [
        "import { useState } from \"react\";\n",
        "import { Input } from \"@/components/ui/input\";\n",
        "import { Button } from \"@/components/ui/button\";\n",
        "import { Card, CardContent } from \"@/components/ui/card\";\n",
        "\n",
        "export default function ChatApp() {\n",
        "  const [messages, setMessages] = useState([]);\n",
        "  const [input, setInput] = useState(\"\");\n",
        "  const [leetcodeUrl, setLeetcodeUrl] = useState(\"\");\n",
        "\n",
        "  const sendMessage = async () => {\n",
        "    if (!input || !leetcodeUrl) return;\n",
        "\n",
        "    const newMessage = { user: \"You\", text: input };\n",
        "    setMessages([...messages, newMessage]);\n",
        "    setInput(\"\");\n",
        "\n",
        "    const response = await fetch(\"http://localhost:8000/chat\", {\n",
        "      method: \"POST\",\n",
        "      headers: { \"Content-Type\": \"application/json\" },\n",
        "      body: JSON.stringify({ url: leetcodeUrl, question: input }),\n",
        "    });\n",
        "    const data = await response.json();\n",
        "\n",
        "    setMessages((prev) => [...prev, { user: \"GPT\", text: data.response }]);\n",
        "  };\n",
        "\n",
        "  return (\n",
        "    <div className=\"max-w-xl mx-auto p-4\">\n",
        "      <h1 className=\"text-2xl font-bold mb-4\">DSA Teaching Assistant</h1>\n",
        "      <Input\n",
        "        placeholder=\"Enter LeetCode problem URL\"\n",
        "        value={leetcodeUrl}\n",
        "        onChange={(e) => setLeetcodeUrl(e.target.value)}\n",
        "        className=\"mb-2\"\n",
        "      />\n",
        "      <div className=\"border p-4 h-96 overflow-y-auto mb-2 bg-gray-100 rounded-lg\">\n",
        "        {messages.map((msg, index) => (\n",
        "          <Card key={index} className={`mb-2 ${msg.user === \"You\" ? \"text-right\" : \"text-left\"}`}>\n",
        "            <CardContent className=\"p-2\"> <strong>{msg.user}:</strong> {msg.text} </CardContent>\n",
        "          </Card>\n",
        "        ))}\n",
        "      </div>\n",
        "      <Input\n",
        "        placeholder=\"Ask a question about the problem\"\n",
        "        value={input}\n",
        "        onChange={(e) => setInput(e.target.value)}\n",
        "      />\n",
        "      <Button onClick={sendMessage} className=\"mt-2 w-full\">Send</Button>\n",
        "    </div>\n",
        "  );\n",
        "}\n"
      ]
    },
    {
      "cell_type": "markdown",
      "source": [
        "Run the backend:"
      ],
      "metadata": {
        "id": "nhRuVgSozXHp"
      }
    },
    {
      "cell_type": "code",
      "source": [
        "uvicorn main:app --reload\n"
      ],
      "metadata": {
        "id": "zsufuNcGzbJt"
      },
      "execution_count": null,
      "outputs": []
    }
  ]
}